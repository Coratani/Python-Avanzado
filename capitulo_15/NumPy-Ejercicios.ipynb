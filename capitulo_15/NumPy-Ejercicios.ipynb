{
 "cells": [
  {
   "cell_type": "markdown",
   "metadata": {},
   "source": [
    "##### Crear un array con los números pares entre 1 y 100, mostrarlo y después mostrar los 10 últimos valores.\n",
    "##### Mostrar el resultado de multiplicar dichos valores por 2."
   ]
  },
  {
   "cell_type": "code",
   "execution_count": 1,
   "metadata": {},
   "outputs": [
    {
     "name": "stdout",
     "output_type": "stream",
     "text": [
      "Los 10 ultimos valores son:\n",
      " [ 91  92  93  94  95  96  97  98  99 100]\n",
      "Multiplicamos los 10 ultimos valores por 2:\n",
      " [182 184 186 188 190 192 194 196 198 200]\n"
     ]
    }
   ],
   "source": [
    "import numpy as np\n",
    "pares= np.arange(1,101)\n",
    "print(\"Los 10 ultimos valores son:\\n\",pares[-10:])\n",
    "pares*=2\n",
    "print(\"Multiplicamos los 10 ultimos valores por 2:\\n\",pares[-10:])"
   ]
  },
  {
   "cell_type": "markdown",
   "metadata": {},
   "source": [
    "##### Crear un nuevo array a partir del primero, pero cambiando a multidimensional, formando 5 filas y 10 columnas.\n",
    "##### Mostrar la primera columna, y la última.\n",
    "##### Mostrar la suma de ambas columnas.\n"
   ]
  },
  {
   "cell_type": "code",
   "execution_count": 2,
   "metadata": {},
   "outputs": [
    {
     "name": "stdout",
     "output_type": "stream",
     "text": [
      "Formato 5 filas y 10 columnas:\n",
      " [[ 1  3  5  7  9 11 13 15 17 19]\n",
      " [21 23 25 27 29 31 33 35 37 39]\n",
      " [41 43 45 47 49 51 53 55 57 59]\n",
      " [61 63 65 67 69 71 73 75 77 79]\n",
      " [81 83 85 87 89 91 93 95 97 99]]\n",
      "primera columna:\n",
      " [ 1 21 41 61 81]\n",
      "Ultima columna:\n",
      " [19 39 59 79 99]\n",
      "La suma de ambas columnas:\n",
      " [ 20  60 100 140 180]\n"
     ]
    }
   ],
   "source": [
    "pares=np.arange(1,101, 2)\n",
    "pares2=np.reshape(pares,(5,10))\n",
    "print(\"Formato 5 filas y 10 columnas:\\n\",pares2)\n",
    "print(\"primera columna:\\n\",pares2[:,0])\n",
    "print(\"Ultima columna:\\n\",pares2[:,9])\n",
    "print(\"La suma de ambas columnas:\\n\",pares2[:,0]+pares2[:,9])"
   ]
  },
  {
   "cell_type": "markdown",
   "metadata": {},
   "source": [
    "##### En el array multidimensional, insertar dos columnas, una después de la primera y otra antes de la última, con valores 0. Mostrarlo.\n",
    "##### Extraiga del array anterior, mediante 2 funciones where anidadas, los números entre 40 y 70, convirtiendo a 0 el resto. De este resultado, extraer todos los elementos que no sean 0, mostrando así los números extraídos.\n",
    "##### Volver a extraer del mismo array, pero esta vez mediante dos funciones extract, los números entre 40 y 70. Mostrarlo."
   ]
  },
  {
   "cell_type": "code",
   "execution_count": 3,
   "metadata": {},
   "outputs": [
    {
     "name": "stdout",
     "output_type": "stream",
     "text": [
      "Columnas añadidas:\n",
      " [[ 1  0  3  5  7  9 11 13 15 17  0 19]\n",
      " [21  0 23 25 27 29 31 33 35 37  0 39]\n",
      " [41  0 43 45 47 49 51 53 55 57  0 59]\n",
      " [61  0 63 65 67 69 71 73 75 77  0 79]\n",
      " [81  0 83 85 87 89 91 93 95 97  0 99]]\n",
      "Extraccion mediante where anidados:\n",
      " [41 43 45 47 49 51 53 55 57 59 61 63 65 67 69]\n",
      "Extraccion mediante extract:\n",
      " [41 43 45 47 49 51 53 55 57 59 61 63 65 67 69 71]\n"
     ]
    }
   ],
   "source": [
    "pares2=np.insert(pares2,(1,-1),0,axis=1)\n",
    "print(\"Columnas añadidas:\\n\", pares2)\n",
    "print(\"Extraccion mediante where anidados:\\n\",pares2[np.where(pares2<=39,0,np.where(pares2>=71,0,pares2)).nonzero()])\n",
    "pares3=np.extract(pares2>=40,pares2)\n",
    "print(\"Extraccion mediante extract:\\n\",np.extract(pares3<=71,pares3))"
   ]
  },
  {
   "cell_type": "code",
   "execution_count": null,
   "metadata": {},
   "outputs": [],
   "source": []
  }
 ],
 "metadata": {
  "kernelspec": {
   "display_name": "Python 3",
   "language": "python",
   "name": "python3"
  },
  "language_info": {
   "codemirror_mode": {
    "name": "ipython",
    "version": 3
   },
   "file_extension": ".py",
   "mimetype": "text/x-python",
   "name": "python",
   "nbconvert_exporter": "python",
   "pygments_lexer": "ipython3",
   "version": "3.7.11"
  }
 },
 "nbformat": 4,
 "nbformat_minor": 4
}
