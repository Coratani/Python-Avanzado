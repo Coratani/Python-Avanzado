{
 "cells": [
  {
   "cell_type": "markdown",
   "id": "04e7f4fb-e5c3-4189-a51f-2d6100fe2ff4",
   "metadata": {},
   "source": [
    "# Grafico en ventana"
   ]
  },
  {
   "cell_type": "code",
   "execution_count": 1,
   "id": "850c9a34-f8a4-485d-beeb-f102cc48f2fd",
   "metadata": {},
   "outputs": [
    {
     "name": "stderr",
     "output_type": "stream",
     "text": [
      "Exception in Tkinter callback\n",
      "Traceback (most recent call last):\n",
      "  File \"C:\\ProgramData\\Anaconda3\\lib\\tkinter\\__init__.py\", line 1705, in __call__\n",
      "    return self.func(*args)\n",
      "  File \"C:\\ProgramData\\Anaconda3\\lib\\site-packages\\matplotlib\\backend_bases.py\", line 3310, in configure_subplots\n",
      "    self.subplot_tool = plt.subplot_tool(self.canvas.figure)\n",
      "  File \"C:\\ProgramData\\Anaconda3\\lib\\site-packages\\matplotlib\\pyplot.py\", line 1639, in subplot_tool\n",
      "    manager.show()\n",
      "  File \"C:\\ProgramData\\Anaconda3\\lib\\site-packages\\matplotlib\\backend_bases.py\", line 2782, in show\n",
      "    f\"Matplotlib is currently using {get_backend()}, which is a \"\n",
      "matplotlib.backend_bases.NonGuiException: Matplotlib is currently using module://ipykernel.pylab.backend_inline, which is a non-GUI backend, so cannot show the figure.\n"
     ]
    }
   ],
   "source": [
    "from tkinter import *\n",
    "import numpy as np\n",
    "import matplotlib.pyplot as plt\n",
    "from matplotlib.backends.backend_tkagg import FigureCanvasTkAgg, NavigationToolbar2Tk\n",
    "\n",
    "def abandonar():\n",
    "    ventana.quit()\n",
    "    ventana.destroy()\n",
    "    \n",
    "ventana= Tk()\n",
    "ventana.title(\"Grafico en ventana Tk\")\n",
    "\n",
    "tiempo=np.arange(0,3,0.1)\n",
    "grafico=plt.Figure(figsize=(7,4), dpi=100)\n",
    "grafico.add_subplot().plot(tiempo,2*np.sin(2*np.pi*tiempo))\n",
    "\n",
    "canvas= FigureCanvasTkAgg(grafico, ventana)\n",
    "canvas.draw()\n",
    "canvas.get_tk_widget().pack(side=BOTTOM)\n",
    "\n",
    "barra=NavigationToolbar2Tk(canvas,ventana)\n",
    "barra.pack(side=LEFT)\n",
    "\n",
    "button=Button(ventana, text=\"Salir\", command=abandonar)\n",
    "button.pack(side=RIGHT)\n",
    "\n",
    "ventana.mainloop()\n"
   ]
  },
  {
   "cell_type": "code",
   "execution_count": null,
   "id": "cc032a63-8c4a-4ffa-9953-ce42e8b86751",
   "metadata": {},
   "outputs": [],
   "source": []
  }
 ],
 "metadata": {
  "kernelspec": {
   "display_name": "Python 3",
   "language": "python",
   "name": "python3"
  },
  "language_info": {
   "codemirror_mode": {
    "name": "ipython",
    "version": 3
   },
   "file_extension": ".py",
   "mimetype": "text/x-python",
   "name": "python",
   "nbconvert_exporter": "python",
   "pygments_lexer": "ipython3",
   "version": "3.7.11"
  }
 },
 "nbformat": 4,
 "nbformat_minor": 5
}
