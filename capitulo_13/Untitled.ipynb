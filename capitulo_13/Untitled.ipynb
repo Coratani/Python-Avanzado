{
 "cells": [
  {
   "cell_type": "markdown",
   "id": "b958573d",
   "metadata": {},
   "source": [
    "<h1>Uso del modulo calendar</h1>\n",
    "Este modulo permite la creacion visual de un calendario, tanto de una fecha entera como anual."
   ]
  },
  {
   "cell_type": "markdown",
   "id": "3146a4c2",
   "metadata": {},
   "source": [
    "Primero hemos de importar el modulo:"
   ]
  },
  {
   "cell_type": "code",
   "execution_count": 1,
   "id": "e6032c86",
   "metadata": {},
   "outputs": [],
   "source": [
    "import calendar"
   ]
  },
  {
   "cell_type": "markdown",
   "id": "183afdd0",
   "metadata": {},
   "source": [
    "Definimos los valores:"
   ]
  },
  {
   "cell_type": "code",
   "execution_count": 2,
   "id": "b974f871",
   "metadata": {},
   "outputs": [],
   "source": [
    "anyo = 2020\n",
    "mes = 11"
   ]
  },
  {
   "cell_type": "markdown",
   "id": "f5e99d78",
   "metadata": {},
   "source": [
    "Y ya podemos mostrar un calendario:"
   ]
  },
  {
   "cell_type": "code",
   "execution_count": 3,
   "id": "0617869f",
   "metadata": {},
   "outputs": [
    {
     "name": "stdout",
     "output_type": "stream",
     "text": [
      "   November 2020\n",
      "Mo Tu We Th Fr Sa Su\n",
      "                   1\n",
      " 2  3  4  5  6  7  8\n",
      " 9 10 11 12 13 14 15\n",
      "16 17 18 19 20 21 22\n",
      "23 24 25 26 27 28 29\n",
      "30\n"
     ]
    }
   ],
   "source": [
    "calendar.prmonth(anyo, mes)"
   ]
  },
  {
   "cell_type": "code",
   "execution_count": null,
   "id": "acb2791d",
   "metadata": {},
   "outputs": [],
   "source": []
  },
  {
   "cell_type": "code",
   "execution_count": null,
   "id": "8d3f5255",
   "metadata": {},
   "outputs": [],
   "source": []
  }
 ],
 "metadata": {
  "kernelspec": {
   "display_name": "Python 3",
   "language": "python",
   "name": "python3"
  },
  "language_info": {
   "codemirror_mode": {
    "name": "ipython",
    "version": 3
   },
   "file_extension": ".py",
   "mimetype": "text/x-python",
   "name": "python",
   "nbconvert_exporter": "python",
   "pygments_lexer": "ipython3",
   "version": "3.7.11"
  }
 },
 "nbformat": 4,
 "nbformat_minor": 5
}
