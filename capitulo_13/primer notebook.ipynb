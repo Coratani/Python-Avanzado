{
 "cells": [
  {
   "cell_type": "markdown",
   "id": "29159665",
   "metadata": {},
   "source": [
    "<h1>Uso del modulo calendar</h1>\n",
    "Este modulo permite la creacion visual de un calendario, tanto de una fecha entera como anual."
   ]
  },
  {
   "cell_type": "markdown",
   "id": "de76b15b",
   "metadata": {},
   "source": [
    "Primero hemos de importar el modulo:"
   ]
  },
  {
   "cell_type": "code",
   "execution_count": 5,
   "id": "51c477de",
   "metadata": {},
   "outputs": [],
   "source": [
    "import calendar"
   ]
  },
  {
   "cell_type": "markdown",
   "id": "8bfef3e1",
   "metadata": {},
   "source": [
    "Definimos los valores:"
   ]
  },
  {
   "cell_type": "code",
   "execution_count": 6,
   "id": "4e9e913c",
   "metadata": {},
   "outputs": [
    {
     "name": "stdout",
     "output_type": "stream",
     "text": [
      "Indica un anyo1998\n",
      "Indica un mes8\n"
     ]
    }
   ],
   "source": [
    "anyo = eval(input(\"Indica un anyo: \"))\n",
    "mes = eval(input(\"Indica un mes: \"))"
   ]
  },
  {
   "cell_type": "markdown",
   "id": "d1601fff",
   "metadata": {},
   "source": [
    "Y ya podemos mostrar un calendario:"
   ]
  },
  {
   "cell_type": "code",
   "execution_count": 7,
   "id": "c4a29ada",
   "metadata": {},
   "outputs": [
    {
     "name": "stdout",
     "output_type": "stream",
     "text": [
      "    August 1998\n",
      "Su Mo Tu We Th Fr Sa\n",
      "                   1\n",
      " 2  3  4  5  6  7  8\n",
      " 9 10 11 12 13 14 15\n",
      "16 17 18 19 20 21 22\n",
      "23 24 25 26 27 28 29\n",
      "30 31\n"
     ]
    }
   ],
   "source": [
    "calendar.setfirstweekday(calendar.SUNDAY)\n",
    "calendar.prmonth(anyo, mes)"
   ]
  },
  {
   "cell_type": "markdown",
   "id": "f0f92f12",
   "metadata": {},
   "source": [
    "# Aqui finaliza el ejercicio"
   ]
  },
  {
   "cell_type": "markdown",
   "id": "bcb8f8bb",
   "metadata": {},
   "source": [
    "###### Realizado por mi XD"
   ]
  },
  {
   "cell_type": "code",
   "execution_count": null,
   "id": "e8323e77",
   "metadata": {},
   "outputs": [],
   "source": []
  },
  {
   "cell_type": "code",
   "execution_count": null,
   "id": "ae5c2fea",
   "metadata": {},
   "outputs": [],
   "source": []
  }
 ],
 "metadata": {
  "kernelspec": {
   "display_name": "Python 3",
   "language": "python",
   "name": "python3"
  },
  "language_info": {
   "codemirror_mode": {
    "name": "ipython",
    "version": 3
   },
   "file_extension": ".py",
   "mimetype": "text/x-python",
   "name": "python",
   "nbconvert_exporter": "python",
   "pygments_lexer": "ipython3",
   "version": "3.7.11"
  }
 },
 "nbformat": 4,
 "nbformat_minor": 5
}
