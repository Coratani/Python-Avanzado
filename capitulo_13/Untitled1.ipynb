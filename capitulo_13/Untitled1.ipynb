{
 "cells": [
  {
   "cell_type": "code",
   "execution_count": 5,
   "id": "7becff97-9eb9-4dc7-8451-67bf5ca12a80",
   "metadata": {},
   "outputs": [],
   "source": [
    "import calendar"
   ]
  },
  {
   "cell_type": "code",
   "execution_count": null,
   "id": "98419a83-3264-4bf8-ba00-b95aa92862c5",
   "metadata": {},
   "outputs": [],
   "source": [
    "anyo = eval(input(\"Indica un anyo: \"))\n",
    "mes = eval(input(\"Indica un mes: \"))"
   ]
  },
  {
   "cell_type": "code",
   "execution_count": 7,
   "id": "6e047af4-f1cc-423a-ae93-d4532048994f",
   "metadata": {},
   "outputs": [
    {
     "name": "stdout",
     "output_type": "stream",
     "text": [
      "    August 1998\n",
      "Su Mo Tu We Th Fr Sa\n",
      "                   1\n",
      " 2  3  4  5  6  7  8\n",
      " 9 10 11 12 13 14 15\n",
      "16 17 18 19 20 21 22\n",
      "23 24 25 26 27 28 29\n",
      "30 31\n"
     ]
    }
   ],
   "source": [
    "calendar.setfirstweekday(calendar.SUNDAY)\n",
    "calendar.prmonth(anyo, mes)"
   ]
  },
  {
   "cell_type": "code",
   "execution_count": null,
   "id": "ddc860c7-49e9-43e2-8b35-d61f477ce686",
   "metadata": {},
   "outputs": [],
   "source": []
  }
 ],
 "metadata": {
  "kernelspec": {
   "display_name": "Python 3",
   "language": "python",
   "name": "python3"
  },
  "language_info": {
   "codemirror_mode": {
    "name": "ipython",
    "version": 3
   },
   "file_extension": ".py",
   "mimetype": "text/x-python",
   "name": "python",
   "nbconvert_exporter": "python",
   "pygments_lexer": "ipython3",
   "version": "3.7.11"
  }
 },
 "nbformat": 4,
 "nbformat_minor": 5
}
