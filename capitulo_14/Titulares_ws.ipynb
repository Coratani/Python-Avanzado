{
 "cells": [
  {
   "cell_type": "markdown",
   "id": "27a57750-eb30-47e8-a0ad-826588bacfeb",
   "metadata": {},
   "source": [
    "### Estos son los tres primeros titulares de CNN ahora:"
   ]
  },
  {
   "cell_type": "code",
   "execution_count": 1,
   "id": "b052ab04-4f30-4c7d-a107-389529a04d34",
   "metadata": {},
   "outputs": [
    {
     "name": "stdout",
     "output_type": "stream",
     "text": [
      "Los titulares son:\n",
      "\"Estaba a 50 pasos de la explosión\": testigo en Kabul\n",
      "Ataque aéreo de EE.UU. contra integrante de ISIS-K\n",
      "México: Nora ahora es un huracán de categoría 1\n"
     ]
    }
   ],
   "source": [
    "from bs4 import BeautifulSoup\n",
    "import requests\n",
    "html = requests.get(\"https://cnnespanol.cnn.com/\")\n",
    "pag = BeautifulSoup(html.content,\"html5lib\")\n",
    "titulares = pag.find_all(\"h2\", attrs={\"class\":\"news__title\"})\n",
    "print(\"Los titulares son:\")\n",
    "for titular in titulares[:3]:\n",
    "    print(titular.text.strip())"
   ]
  },
  {
   "cell_type": "code",
   "execution_count": null,
   "id": "d37de976-49e3-489c-912b-19fdec3a95a8",
   "metadata": {},
   "outputs": [],
   "source": []
  },
  {
   "cell_type": "code",
   "execution_count": null,
   "id": "d8d6c0f9-2d19-438b-8230-9a0e8df3113b",
   "metadata": {},
   "outputs": [],
   "source": []
  }
 ],
 "metadata": {
  "kernelspec": {
   "display_name": "Python 3",
   "language": "python",
   "name": "python3"
  },
  "language_info": {
   "codemirror_mode": {
    "name": "ipython",
    "version": 3
   },
   "file_extension": ".py",
   "mimetype": "text/x-python",
   "name": "python",
   "nbconvert_exporter": "python",
   "pygments_lexer": "ipython3",
   "version": "3.7.11"
  }
 },
 "nbformat": 4,
 "nbformat_minor": 5
}
