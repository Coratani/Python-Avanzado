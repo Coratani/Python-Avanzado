{
 "cells": [
  {
   "cell_type": "markdown",
   "id": "9e8d68b5-397c-479f-8c0b-231404a3cca6",
   "metadata": {},
   "source": [
    "## Con web scraping obtenemos la temperatura de barcelona"
   ]
  },
  {
   "cell_type": "code",
   "execution_count": 9,
   "id": "b6f241f4-6c8e-4474-8a5a-1dfda5ed465f",
   "metadata": {},
   "outputs": [
    {
     "name": "stdout",
     "output_type": "stream",
     "text": [
      "La temperatura en Barcelona es:  25°\n"
     ]
    }
   ],
   "source": [
    "from bs4 import BeautifulSoup\n",
    "import requests\n",
    "html = requests.get(\"https://www.tiempo.com/barcelona.htm\")\n",
    "pag = BeautifulSoup(html.content,\"html5lib\")\n",
    "tempe = pag.find(\"span\", attrs={\"class\":\"dato-temperatura changeUnitT\"})\n",
    "print(\"La temperatura en Barcelona es: \", tempe.text)"
   ]
  },
  {
   "cell_type": "code",
   "execution_count": null,
   "id": "78b85e27-c8dc-4ea2-85a4-7433efb04464",
   "metadata": {},
   "outputs": [],
   "source": []
  }
 ],
 "metadata": {
  "kernelspec": {
   "display_name": "Python 3",
   "language": "python",
   "name": "python3"
  },
  "language_info": {
   "codemirror_mode": {
    "name": "ipython",
    "version": 3
   },
   "file_extension": ".py",
   "mimetype": "text/x-python",
   "name": "python",
   "nbconvert_exporter": "python",
   "pygments_lexer": "ipython3",
   "version": "3.7.11"
  }
 },
 "nbformat": 4,
 "nbformat_minor": 5
}
